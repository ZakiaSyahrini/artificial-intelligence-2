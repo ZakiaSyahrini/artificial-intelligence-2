{
  "nbformat": 4,
  "nbformat_minor": 0,
  "metadata": {
    "colab": {
      "name": "Tubes2AI_Kelompok_8.ipynb",
      "provenance": [],
      "collapsed_sections": []
    },
    "kernelspec": {
      "name": "python3",
      "display_name": "Python 3"
    },
    "language_info": {
      "name": "python"
    }
  },
  "cells": [
    {
      "cell_type": "markdown",
      "metadata": {
        "id": "MEny-WAT1Dmy"
      },
      "source": [
        "KELOMPOK 8 - AI TUGAS 2\n",
        "\n",
        "INDRA DEVA AJI ZAKARIA\n",
        "\n",
        "RAHMATIA PRIMADIATI\n",
        "\n",
        "ZAKIA SYAHRINI\n",
        "\n",
        "\n",
        "Diberikan file restoran.xls berupa himpunan data 100 restoran yang ada di kota A dengan dua atribut: Kualitas pelayanan (bilangan real 1-100) dan kualitas makanan (bilangan real 1-10). Bangunlah sebuah sistem berbasis fuzzy logic untuk memilih 10 restoran terbaik di kota A. Sistem membaca masukan file restoran.xls dan mengeluarkan output berupa sebuah file peringkat.xls yang berisi satu vektor kolom berisi 10 baris angka bernilai integer (bilangan bulat) yang menyatakan nomor baris/record id restoran (1-100) pada file restoran.xls.\n",
        "\n",
        "\n",
        "HAL YANG DAPAT DIOBSERVASI:\n",
        "\n",
        "jumlah dan nama linguistik setiap input\n",
        "\n",
        "bentuk dan batas fungsi keanggotaan input\n",
        "\n",
        "aturan inferensi\n",
        "\n",
        "metode defuzzifikasi\n",
        "\n",
        "bentuk dan batas fungsi keanggotaan output\n",
        "\n",
        "HAL YANG HARUS DIBANGUN\n",
        "\n",
        "*   membaca file\n",
        "*   inferensi\n",
        "*   fuzzifikasi\n",
        "*   defuzzifikasi\n",
        "\n",
        "\n"
      ]
    },
    {
      "cell_type": "code",
      "metadata": {
        "colab": {
          "base_uri": "https://localhost:8080/"
        },
        "id": "0bGI_xZ2sLon",
        "outputId": "5219b65a-b29a-47aa-b987-1aa9f59c954b"
      },
      "source": [
        "#download data dari sample excel\n",
        "!gdown --id 1KAB5SYo6fLzv4bYmpadclcYswfQCMAph"
      ],
      "execution_count": null,
      "outputs": [
        {
          "output_type": "stream",
          "text": [
            "Downloading...\n",
            "From: https://drive.google.com/uc?id=1KAB5SYo6fLzv4bYmpadclcYswfQCMAph\n",
            "To: /content/restoran.xlsx\n",
            "\r  0% 0.00/10.5k [00:00<?, ?B/s]\r100% 10.5k/10.5k [00:00<00:00, 9.16MB/s]\n"
          ],
          "name": "stdout"
        }
      ]
    },
    {
      "cell_type": "code",
      "metadata": {
        "id": "8xLWnJultnN7"
      },
      "source": [
        "import numpy as np\n",
        "#import plot library\n",
        "import matplotlib.pyplot as plt\n",
        "#import data dari sample data\n",
        "import pandas as pd\n",
        "\n",
        "data = pd.read_excel(\"restoran.xlsx\")"
      ],
      "execution_count": null,
      "outputs": []
    },
    {
      "cell_type": "code",
      "metadata": {
        "colab": {
          "base_uri": "https://localhost:8080/",
          "height": 279
        },
        "id": "AyEmCXxht1QP",
        "outputId": "ec6e0723-4e0b-47e6-f0db-c2c23982a646"
      },
      "source": [
        "#cek data plot\n",
        "plt.scatter(data.pelayanan, data.makanan)\n",
        "plt.xlabel(\"Pelayanan\")\n",
        "plt.ylabel(\"Makanan\")\n",
        "plt.show()"
      ],
      "execution_count": null,
      "outputs": [
        {
          "output_type": "display_data",
          "data": {
            "image/png": "[encoded data removed]",
            "text/plain": [
              "<Figure size 432x288 with 1 Axes>"
            ]
          },
          "metadata": {
            "tags": [],
            "needs_background": "light"
          }
        }
      ]
    },
    {
      "cell_type": "code",
      "metadata": {
        "colab": {
          "base_uri": "https://localhost:8080/"
        },
        "id": "mslxjJqFO3bN",
        "outputId": "0a2e37d8-99ee-4d9e-9002-86ad315aadaa"
      },
      "source": [
        "#show data pelayanan dari excel\n",
        "n = 100\n",
        "data_pelayanan = []\n",
        "series = data[\"pelayanan\"]\n",
        "data_pelayanan.append(series.head(n = n))\n",
        "data_pelayanan"
      ],
      "execution_count": null,
      "outputs": [
        {
          "output_type": "execute_result",
          "data": {
            "text/plain": [
              "[0     58\n",
              " 1     54\n",
              " 2     98\n",
              " 3     52\n",
              " 4     11\n",
              "       ..\n",
              " 95    30\n",
              " 96    25\n",
              " 97    27\n",
              " 98     8\n",
              " 99    11\n",
              " Name: pelayanan, Length: 100, dtype: int64]"
            ]
          },
          "metadata": {
            "tags": []
          },
          "execution_count": 795
        }
      ]
    },
    {
      "cell_type": "code",
      "metadata": {
        "colab": {
          "base_uri": "https://localhost:8080/"
        },
        "id": "3wGOz-V9OvlS",
        "outputId": "43967bda-6bd4-4992-87c7-d29c885a6c4f"
      },
      "source": [
        "#show data makanan dari excel\n",
        "n = 100\n",
        "data_makanan = []\n",
        "series2 = data[\"makanan\"]\n",
        "data_makanan.append(series2.head(n = n))\n",
        "data_makanan"
      ],
      "execution_count": null,
      "outputs": [
        {
          "output_type": "execute_result",
          "data": {
            "text/plain": [
              "[0      7\n",
              " 1      1\n",
              " 2      2\n",
              " 3      4\n",
              " 4      4\n",
              "       ..\n",
              " 95     1\n",
              " 96     3\n",
              " 97    10\n",
              " 98     6\n",
              " 99     8\n",
              " Name: makanan, Length: 100, dtype: int64]"
            ]
          },
          "metadata": {
            "tags": []
          },
          "execution_count": 796
        }
      ]
    },
    {
      "cell_type": "code",
      "metadata": {
        "id": "ZrpxCd680gNQ"
      },
      "source": [
        "#fungsi gauss\n",
        "def fuzzy_linguistik(x, point):\n",
        "    return np.exp(-((x-point[0])**2)/2*(point[1]**2))"
      ],
      "execution_count": null,
      "outputs": []
    },
    {
      "cell_type": "code",
      "metadata": {
        "id": "LYbvK7AJuYyo"
      },
      "source": [
        "#buat grafik\n",
        "def plot_lgtik(point, color, label='', min=0, max=1):\n",
        "   \n",
        "    x=np.arange(min, max, 0.1)\n",
        "    y=fuzzy_linguistik(x, point)\n",
        "    plt.plot(x,y,color,label=label)\n",
        "\n",
        "def plot_membership( membership, min=0, max=1):\n",
        "    color = ['r','g','b','y']\n",
        "\n",
        "    i = 0\n",
        "    for lgtik in membership:\n",
        "        plot_lgtik( membership[lgtik], color[i], lgtik, min=min, max=max)\n",
        "        i = i + 1\n",
        "    plt.title('Grafik Membership')\n",
        "    plt.legend(loc = 3)\n",
        "    plt.show()"
      ],
      "execution_count": null,
      "outputs": []
    },
    {
      "cell_type": "code",
      "metadata": {
        "id": "IG3fluZryC_f"
      },
      "source": [
        "def fuzzy_membership(x, membership):\n",
        "    result = {}\n",
        "\n",
        "    for lgtik in membership:\n",
        "        result[ lgtik ] = fuzzy_linguistik(x, membership[ lgtik ])\n",
        "    return result\n",
        "\n",
        "def fuzzyfikasi(x, list_membership):\n",
        "    result = []\n",
        "\n",
        "    for i in range( len( list_membership )):\n",
        "        result.append( fuzzy_membership( x[i], list_membership[i] ))\n",
        "\n",
        "    return result"
      ],
      "execution_count": null,
      "outputs": []
    },
    {
      "cell_type": "code",
      "metadata": {
        "id": "I9wnrG5F4G8s"
      },
      "source": [
        "#inferensi\n",
        "def inference(x_fuzzy, rule):\n",
        "    result = {}\n",
        "\n",
        "    for r1, l1 in x_fuzzy[ 0 ].items():\n",
        "        for r2, l2 in x_fuzzy[ 1 ].items():\n",
        "            h, min_value = (r1, r2), min(l1, l2)\n",
        "\n",
        "            current_value = result.get( rule[h], 0 )\n",
        "\n",
        "            result[ rule[ h ]] = max( min_value, current_value )\n",
        "    return result"
      ],
      "execution_count": null,
      "outputs": []
    },
    {
      "cell_type": "code",
      "metadata": {
        "id": "WyYAWa-_4-CS"
      },
      "source": [
        "#defuzzyfikasi\n",
        "def defuzz_sugeno( x_infer, memberhsip ):\n",
        "    num, den = 0,0\n",
        "\n",
        "    for lgtik in memberhsip:\n",
        "        num += x_infer[ lgtik ] * memberhsip[ lgtik ]\n",
        "        den += x_infer[ lgtik ]\n",
        "\n",
        "    return num / den"
      ],
      "execution_count": null,
      "outputs": []
    },
    {
      "cell_type": "code",
      "metadata": {
        "colab": {
          "base_uri": "https://localhost:8080/",
          "height": 809
        },
        "id": "p8XFuvtQ5Y00",
        "outputId": "eaa44c86-d6d8-4d19-8432-30e00fc143ae"
      },
      "source": [
        "#membership\n",
        "\n",
        "pelayanan = {\n",
        "    'buruk'      : [ 0, 0.1 ],\n",
        "    'cukup'      : [ 50, 0.1 ],\n",
        "    'baik'       : [ 80, 0.1 ],\n",
        "    'sangatbaik' : [ 100, 0.1 ],\n",
        "}\n",
        "\n",
        "\n",
        "makanan = {\n",
        "    'buruk'      : [ 0, 1 ],\n",
        "    'cukup'      : [ 6, 1 ],\n",
        "    'baik'       : [ 10, 1 ],\n",
        "}\n",
        "\n",
        "plot_membership( pelayanan, max = 100 )\n",
        "plot_membership( makanan, max = 10 )\n",
        "\n",
        "rule = {\n",
        "    ( 'buruk', 'buruk' )        : 'reject',\n",
        "    ( 'buruk', 'cukup' )        : 'reject',\n",
        "    ( 'buruk', 'baik' )         : 'reject',\n",
        "    ( 'cukup', 'buruk' )        : 'reject',\n",
        "    ( 'cukup', 'cukup' )        : 'reject',\n",
        "    ( 'cukup', 'baik' )         : 'reject',\n",
        "    ( 'baik', 'buruk' )         : 'reject',\n",
        "    ( 'baik', 'cukup' )         : 'consider',\n",
        "    ( 'baik', 'baik' )          : 'accept',\n",
        "    ( 'sangatbaik', 'buruk' )   : 'reject',\n",
        "    ( 'sangatbaik', 'cukup' )   : 'consider',\n",
        "    ( 'sangatbaik', 'baik' )    : 'accept',\n",
        "}\n",
        "\n",
        "accept_sugeno = { 'accept' : 100, 'consider' : 80, 'reject' : 60 }\n",
        "\n",
        "colors = 'rgb'\n",
        "for key, val in accept_sugeno.items():\n",
        "    plt.plot([ val, val ], [0, 1], colors[ 0 ], label=key)\n",
        "    colors = colors[ 1: ]\n",
        "    plt.title( 'Grafik Sugeno' )\n",
        "plt.legend(loc = 3)\n",
        "plt.show()"
      ],
      "execution_count": null,
      "outputs": [
        {
          "output_type": "display_data",
          "data": {
            "image/png": "[encoded data removed]",
            "text/plain": [
              "<Figure size 432x288 with 1 Axes>"
            ]
          },
          "metadata": {
            "tags": [],
            "needs_background": "light"
          }
        },
        {
          "output_type": "display_data",
          "data": {
            "image/png": "[encoded data removed]",
            "text/plain": [
              "<Figure size 432x288 with 1 Axes>"
            ]
          },
          "metadata": {
            "tags": [],
            "needs_background": "light"
          }
        },
        {
          "output_type": "display_data",
          "data": {
            "image/png": "[encoded data removed]",
            "text/plain": [
              "<Figure size 432x288 with 1 Axes>"
            ]
          },
          "metadata": {
            "tags": [],
            "needs_background": "light"
          }
        }
      ]
    },
    {
      "cell_type": "code",
      "metadata": {
        "colab": {
          "base_uri": "https://localhost:8080/",
          "height": 295
        },
        "id": "y-bSsue_7vSO",
        "outputId": "2549f9e5-c9b6-4fb9-a31f-f39fbbdfafb8"
      },
      "source": [
        "score = []\n",
        "for x in data.drop('id', axis=1).values:\n",
        "    x_fuzzy = fuzzyfikasi(x, [pelayanan, makanan])\n",
        "    x_infer = inference(x_fuzzy, rule)\n",
        "    x_defuz = defuzz_sugeno( x_infer, accept_sugeno)\n",
        "    score.append( x_defuz )\n",
        "\n",
        "data[ 'Score' ] = score\n",
        "\n",
        "selected_restourant = data.sort_values(by = 'Score', ascending = False)[ : 10 ]\n",
        "not_selected = data.drop( selected_restourant.index )\n",
        "\n",
        "plt.scatter( selected_restourant.pelayanan,\n",
        "             selected_restourant.makanan,\n",
        "             label = 'Terpilih' )\n",
        "plt.scatter( not_selected.pelayanan,\n",
        "             not_selected.makanan,\n",
        "             label = 'Tidak Terpilih' )\n",
        "\n",
        "plt.xlabel( 'Pelayanan' )\n",
        "plt.ylabel( 'Makanan' )\n",
        "plt.title( 'Data Restoran Terbaik' )\n",
        "plt.legend( loc = 'lower right' )\n",
        "\n",
        "plt.show()"
      ],
      "execution_count": null,
      "outputs": [
        {
          "output_type": "display_data",
          "data": {
            "image/png": "[encoded data removed]",
            "text/plain": [
              "<Figure size 432x288 with 1 Axes>"
            ]
          },
          "metadata": {
            "tags": [],
            "needs_background": "light"
          }
        }
      ]
    },
    {
      "cell_type": "code",
      "metadata": {
        "colab": {
          "base_uri": "https://localhost:8080/"
        },
        "id": "zw6oyqOw-3w2",
        "outputId": "53d12425-1f42-4dbe-98dd-4912c695c0a0"
      },
      "source": [
        "x_fuzzy[0]"
      ],
      "execution_count": null,
      "outputs": [
        {
          "output_type": "execute_result",
          "data": {
            "text/plain": [
              "{'baik': 4.5879624871392754e-11,\n",
              " 'buruk': 0.5460744266397094,\n",
              " 'cukup': 0.000497955421503273,\n",
              " 'sangatbaik': 6.306189893986358e-18}"
            ]
          },
          "metadata": {
            "tags": []
          },
          "execution_count": 804
        }
      ]
    },
    {
      "cell_type": "code",
      "metadata": {
        "colab": {
          "base_uri": "https://localhost:8080/"
        },
        "id": "vFDN_KBV4Q0P",
        "outputId": "567e10ad-1818-4b01-f6ab-749cd7ba9fe7"
      },
      "source": [
        "x_fuzzy[1]"
      ],
      "execution_count": null,
      "outputs": [
        {
          "output_type": "execute_result",
          "data": {
            "text/plain": [
              "{'baik': 0.1353352832366127,\n",
              " 'buruk': 1.2664165549094176e-14,\n",
              " 'cukup': 0.1353352832366127}"
            ]
          },
          "metadata": {
            "tags": []
          },
          "execution_count": 805
        }
      ]
    },
    {
      "cell_type": "code",
      "metadata": {
        "colab": {
          "base_uri": "https://localhost:8080/"
        },
        "id": "l_pXhqLW-5AR",
        "outputId": "fe512e53-8d8b-4c46-be27-d84243329717"
      },
      "source": [
        "x_infer"
      ],
      "execution_count": null,
      "outputs": [
        {
          "output_type": "execute_result",
          "data": {
            "text/plain": [
              "{'accept': 4.5879624871392754e-11,\n",
              " 'consider': 4.5879624871392754e-11,\n",
              " 'reject': 0.1353352832366127}"
            ]
          },
          "metadata": {
            "tags": []
          },
          "execution_count": 806
        }
      ]
    },
    {
      "cell_type": "code",
      "metadata": {
        "colab": {
          "base_uri": "https://localhost:8080/"
        },
        "id": "unxIBpw0-6TY",
        "outputId": "58eb5e91-16f3-43d3-d221-e1a333f0aa17"
      },
      "source": [
        "x_defuz"
      ],
      "execution_count": null,
      "outputs": [
        {
          "output_type": "execute_result",
          "data": {
            "text/plain": [
              "60.00000002034043"
            ]
          },
          "metadata": {
            "tags": []
          },
          "execution_count": 807
        }
      ]
    },
    {
      "cell_type": "code",
      "metadata": {
        "colab": {
          "base_uri": "https://localhost:8080/",
          "height": 359
        },
        "id": "RPMCHGne-7r5",
        "outputId": "417d3d83-3ec1-4724-9f83-bc3af0e4b16c"
      },
      "source": [
        "selected_restourant"
      ],
      "execution_count": null,
      "outputs": [
        {
          "output_type": "execute_result",
          "data": {
            "text/html": [
              "<div>\n",
              "<style scoped>\n",
              "    .dataframe tbody tr th:only-of-type {\n",
              "        vertical-align: middle;\n",
              "    }\n",
              "\n",
              "    .dataframe tbody tr th {\n",
              "        vertical-align: top;\n",
              "    }\n",
              "\n",
              "    .dataframe thead th {\n",
              "        text-align: right;\n",
              "    }\n",
              "</style>\n",
              "<table border=\"1\" class=\"dataframe\">\n",
              "  <thead>\n",
              "    <tr style=\"text-align: right;\">\n",
              "      <th></th>\n",
              "      <th>id</th>\n",
              "      <th>pelayanan</th>\n",
              "      <th>makanan</th>\n",
              "      <th>Score</th>\n",
              "    </tr>\n",
              "  </thead>\n",
              "  <tbody>\n",
              "    <tr>\n",
              "      <th>41</th>\n",
              "      <td>42</td>\n",
              "      <td>94</td>\n",
              "      <td>10</td>\n",
              "      <td>99.988979</td>\n",
              "    </tr>\n",
              "    <tr>\n",
              "      <th>68</th>\n",
              "      <td>69</td>\n",
              "      <td>86</td>\n",
              "      <td>10</td>\n",
              "      <td>99.918697</td>\n",
              "    </tr>\n",
              "    <tr>\n",
              "      <th>23</th>\n",
              "      <td>24</td>\n",
              "      <td>100</td>\n",
              "      <td>9</td>\n",
              "      <td>99.640037</td>\n",
              "    </tr>\n",
              "    <tr>\n",
              "      <th>78</th>\n",
              "      <td>79</td>\n",
              "      <td>87</td>\n",
              "      <td>9</td>\n",
              "      <td>99.572056</td>\n",
              "    </tr>\n",
              "    <tr>\n",
              "      <th>21</th>\n",
              "      <td>22</td>\n",
              "      <td>79</td>\n",
              "      <td>9</td>\n",
              "      <td>98.705244</td>\n",
              "    </tr>\n",
              "    <tr>\n",
              "      <th>30</th>\n",
              "      <td>31</td>\n",
              "      <td>74</td>\n",
              "      <td>9</td>\n",
              "      <td>96.337691</td>\n",
              "    </tr>\n",
              "    <tr>\n",
              "      <th>69</th>\n",
              "      <td>70</td>\n",
              "      <td>78</td>\n",
              "      <td>8</td>\n",
              "      <td>87.951088</td>\n",
              "    </tr>\n",
              "    <tr>\n",
              "      <th>94</th>\n",
              "      <td>95</td>\n",
              "      <td>63</td>\n",
              "      <td>8</td>\n",
              "      <td>80.000000</td>\n",
              "    </tr>\n",
              "    <tr>\n",
              "      <th>6</th>\n",
              "      <td>7</td>\n",
              "      <td>61</td>\n",
              "      <td>8</td>\n",
              "      <td>80.000000</td>\n",
              "    </tr>\n",
              "    <tr>\n",
              "      <th>82</th>\n",
              "      <td>83</td>\n",
              "      <td>69</td>\n",
              "      <td>8</td>\n",
              "      <td>80.000000</td>\n",
              "    </tr>\n",
              "  </tbody>\n",
              "</table>\n",
              "</div>"
            ],
            "text/plain": [
              "    id  pelayanan  makanan      Score\n",
              "41  42         94       10  99.988979\n",
              "68  69         86       10  99.918697\n",
              "23  24        100        9  99.640037\n",
              "78  79         87        9  99.572056\n",
              "21  22         79        9  98.705244\n",
              "30  31         74        9  96.337691\n",
              "69  70         78        8  87.951088\n",
              "94  95         63        8  80.000000\n",
              "6    7         61        8  80.000000\n",
              "82  83         69        8  80.000000"
            ]
          },
          "metadata": {
            "tags": []
          },
          "execution_count": 808
        }
      ]
    }
  ]
}